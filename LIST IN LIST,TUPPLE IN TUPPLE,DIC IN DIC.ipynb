{
 "cells": [
  {
   "cell_type": "markdown",
   "metadata": {},
   "source": [
    "# LIST IN LIST\n"
   ]
  },
  {
   "cell_type": "code",
   "execution_count": 1,
   "metadata": {},
   "outputs": [
    {
     "name": "stdout",
     "output_type": "stream",
     "text": [
      "[78, 86, [1, 2, 3, 4, 5, 6], [23, 45, 67, 89]]\n"
     ]
    }
   ],
   "source": [
    "a = [1,2,3,4,5,6]\n",
    "b = [23,45,67,89]\n",
    "c = [78,86,a,b]\n",
    "print(c)"
   ]
  },
  {
   "cell_type": "code",
   "execution_count": 9,
   "metadata": {},
   "outputs": [
    {
     "name": "stdout",
     "output_type": "stream",
     "text": [
      "[78, 86, [1, 2, 3, 4, 4], [23, 45, 89]]\n"
     ]
    }
   ],
   "source": [
    "del c[2][4:10]\n",
    "print(c)"
   ]
  },
  {
   "cell_type": "markdown",
   "metadata": {},
   "source": [
    "# TUPPLE IN LIST"
   ]
  },
  {
   "cell_type": "code",
   "execution_count": 10,
   "metadata": {},
   "outputs": [
    {
     "name": "stdout",
     "output_type": "stream",
     "text": [
      "['faizan', 'maaz', ('hasan', 'ahmed', 'bilal', 'hamza')]\n"
     ]
    }
   ],
   "source": [
    "a = ('hasan' , 'ahmed' , 'bilal' , 'hamza')\n",
    "b = ['faizan' , 'maaz' , a]\n",
    "print(b)"
   ]
  },
  {
   "cell_type": "markdown",
   "metadata": {},
   "source": [
    "# DICTIONARY IN LIST"
   ]
  },
  {
   "cell_type": "code",
   "execution_count": 12,
   "metadata": {},
   "outputs": [
    {
     "name": "stdout",
     "output_type": "stream",
     "text": [
      "['mazhar', 'memon', ('hasan', 'ahmed', 'bilal', 'hamza')]\n"
     ]
    }
   ],
   "source": [
    "dic = {'ali' , 'ayub' , 'aliyan' , 1 , 2 , 3 }\n",
    "b = ['mazhar' , 'memon' , a]\n",
    "print(b)"
   ]
  },
  {
   "cell_type": "markdown",
   "metadata": {},
   "source": [
    "# TUPPLE IN TUPPLE"
   ]
  },
  {
   "cell_type": "code",
   "execution_count": 1,
   "metadata": {},
   "outputs": [
    {
     "name": "stdout",
     "output_type": "stream",
     "text": [
      "('babar', 'amir', ('gayle', 'pooran', 'hetmyer', 'holder'))\n"
     ]
    }
   ],
   "source": [
    "win = (\"gayle\" , \"pooran\" , \"hetmyer\" , \"holder\")\n",
    "cric = (\"babar\" , \"amir\" , win)\n",
    "print(cric)"
   ]
  },
  {
   "cell_type": "markdown",
   "metadata": {},
   "source": [
    "# LIST IN TUPPLE"
   ]
  },
  {
   "cell_type": "code",
   "execution_count": 3,
   "metadata": {},
   "outputs": [
    {
     "name": "stdout",
     "output_type": "stream",
     "text": [
      "('wahab', 'shaheen', ['parchi', 'fakhar', 'class', 'professer'])\n"
     ]
    }
   ],
   "source": [
    "pak = [\"parchi\" , \"fakhar\" , \"class\" , \"professer\"]\n",
    "best = (\"wahab\" , \"shaheen\" , pak)\n",
    "print(best)"
   ]
  },
  {
   "cell_type": "markdown",
   "metadata": {},
   "source": [
    "# DICTIONARY IN TUPPLE"
   ]
  },
  {
   "cell_type": "code",
   "execution_count": 5,
   "metadata": {},
   "outputs": [
    {
     "name": "stdout",
     "output_type": "stream",
     "text": [
      "(11, 22, 33, {1, 2, 3, 4})\n"
     ]
    }
   ],
   "source": [
    "dic = {1 , 2 , 3 , 4}\n",
    "tup = (11 , 22 , 33 , dic)\n",
    "print(tup)"
   ]
  },
  {
   "cell_type": "markdown",
   "metadata": {},
   "source": [
    "# DICTIONARY IN DICTIONARY"
   ]
  },
  {
   "cell_type": "code",
   "execution_count": 21,
   "metadata": {},
   "outputs": [
    {
     "name": "stdout",
     "output_type": "stream",
     "text": [
      "{'name': 'Hasan', 'age': 18, 'qualification': {'matric': 'D.MADINAH', 'inter': 'govt col formen'}}\n"
     ]
    }
   ],
   "source": [
    "alpha = {\"name\":\"Hasan\", \"age\":18 , \"qualification\":{\"matric\":\"D.MADINAH\" , \"inter\":\"govt col formen\"} }\n",
    "print(alpha)"
   ]
  },
  {
   "cell_type": "markdown",
   "metadata": {},
   "source": [
    "# LIST IN DICTIONARY"
   ]
  },
  {
   "cell_type": "code",
   "execution_count": 22,
   "metadata": {},
   "outputs": [
    {
     "name": "stdout",
     "output_type": "stream",
     "text": [
      "{'tip': 'get drink', 'picnic': '2k19', 'trip': 'full enjoyement', 'friends': ['fahad', 'amir', 'asad']}\n"
     ]
    }
   ],
   "source": [
    "dict = {\"tip\":\"get drink\" , \"picnic\":\"2k19\" , \"trip\":\"full enjoyement\" , \"friends\":[\"fahad\" , \"amir\" , \"asad\"] }\n",
    "print(dict)"
   ]
  },
  {
   "cell_type": "markdown",
   "metadata": {},
   "source": [
    "# TUPPLE IN DICTIONARY"
   ]
  },
  {
   "cell_type": "code",
   "execution_count": 27,
   "metadata": {},
   "outputs": [
    {
     "name": "stdout",
     "output_type": "stream",
     "text": [
      "{'list': 'list', 'tup': 'list', 'dic': 'list', 'dict': ('tup', 'list', 'dic')}\n"
     ]
    }
   ],
   "source": [
    "tup_in_dic = {\"list\":\"list\" , \"tup\":\"list\" , \"dic\":\"list\" , \"dict\":(\"tup\" , \"list\" , \"dic\") }\n",
    "print(tup_in_dic)"
   ]
  },
  {
   "cell_type": "code",
   "execution_count": null,
   "metadata": {},
   "outputs": [],
   "source": []
  }
 ],
 "metadata": {
  "kernelspec": {
   "display_name": "Python 3",
   "language": "python",
   "name": "python3"
  },
  "language_info": {
   "codemirror_mode": {
    "name": "ipython",
    "version": 3
   },
   "file_extension": ".py",
   "mimetype": "text/x-python",
   "name": "python",
   "nbconvert_exporter": "python",
   "pygments_lexer": "ipython3",
   "version": "3.7.3"
  }
 },
 "nbformat": 4,
 "nbformat_minor": 2
}
